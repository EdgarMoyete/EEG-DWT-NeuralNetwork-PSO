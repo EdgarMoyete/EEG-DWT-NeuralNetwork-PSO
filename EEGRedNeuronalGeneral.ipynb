{
 "cells": [
  {
   "cell_type": "code",
   "execution_count": 1,
   "metadata": {},
   "outputs": [],
   "source": [
    "#Edgar Moises Hernandez-Gonzalez\n",
    "#17/06/19-24/06/19\n",
    "#Clasificacion de caracteristicas de todos los sujetos con una red neuronal"
   ]
  },
  {
   "cell_type": "code",
   "execution_count": 2,
   "metadata": {},
   "outputs": [],
   "source": [
    "import numpy as np\n",
    "import pandas as pd\n",
    "from sklearn.model_selection import cross_val_score\n",
    "from sklearn.neural_network import MLPClassifier"
   ]
  },
  {
   "cell_type": "code",
   "execution_count": 3,
   "metadata": {},
   "outputs": [
    {
     "name": "stdout",
     "output_type": "stream",
     "text": [
      "(132, 54)\n",
      "(132,)\n"
     ]
    }
   ],
   "source": [
    "#datos para la red neuronal\n",
    "datos = pd.read_csv(\"CaracteristicasSuj01.csv\", header=None)\n",
    "x = datos.iloc[:, 0:54].values\n",
    "y = datos.iloc[:, 54].values\n",
    "print(x.shape)\n",
    "print(y.shape)"
   ]
  },
  {
   "cell_type": "code",
   "execution_count": 4,
   "metadata": {},
   "outputs": [
    {
     "name": "stdout",
     "output_type": "stream",
     "text": [
      "Red Neuronal: MLPClassifier(activation='relu', alpha=0.0001, batch_size='auto', beta_1=0.9,\n",
      "       beta_2=0.999, early_stopping=False, epsilon=1e-08,\n",
      "       hidden_layer_sizes=(100,), learning_rate='constant',\n",
      "       learning_rate_init=0.001, max_iter=200, momentum=0.9,\n",
      "       nesterovs_momentum=True, power_t=0.5, random_state=None,\n",
      "       shuffle=True, solver='adam', tol=0.0001, validation_fraction=0.1,\n",
      "       verbose=False, warm_start=False)\n",
      "Validacion Cruzada: [0.17241379 0.14814815 0.03846154 0.16       0.16      ]\n",
      "Promedio: 0.13580469594262698\n"
     ]
    }
   ],
   "source": [
    "clf = MLPClassifier()\n",
    "print(\"Red Neuronal:\", clf)\n",
    "puntuaciones = cross_val_score(clf, x, y, cv = 5) #accuracy\n",
    "print(\"Validacion Cruzada:\", puntuaciones)\n",
    "print(\"Promedio:\", puntuaciones.mean())"
   ]
  }
 ],
 "metadata": {
  "kernelspec": {
   "display_name": "Python 3",
   "language": "python",
   "name": "python3"
  },
  "language_info": {
   "codemirror_mode": {
    "name": "ipython",
    "version": 3
   },
   "file_extension": ".py",
   "mimetype": "text/x-python",
   "name": "python",
   "nbconvert_exporter": "python",
   "pygments_lexer": "ipython3",
   "version": "3.7.0"
  }
 },
 "nbformat": 4,
 "nbformat_minor": 2
}
